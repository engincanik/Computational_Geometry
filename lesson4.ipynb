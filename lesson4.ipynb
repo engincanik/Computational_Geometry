{
 "cells": [
  {
   "cell_type": "code",
   "execution_count": null,
   "metadata": {},
   "outputs": [],
   "source": [
    "import numpy as np\n",
    "import matplotlib.pyplot as"
   ]
  },
  {
   "cell_type": "code",
   "execution_count": 1,
   "metadata": {},
   "outputs": [],
   "source": [
    "def my_product(a,b):\n",
    "    return a[0]*b[0] + a[1]*b[1] + a[2]*b[2]\n",
    "def my_length_function(a):\n",
    "    return my_product(a,a)**.5"
   ]
  },
  {
   "cell_type": "code",
   "execution_count": 4,
   "metadata": {},
   "outputs": [],
   "source": [
    "def plane_point(plane,point):\n",
    "    #draw plane\n",
    "    #draw two point\n",
    "    #print distance\n",
    "    plane_normal=[plane[0],plane[1],plane[2]]\n",
    "    d=my_product(plane_normal,point) / my_length_function(plane)\n",
    "    \n",
    "    t= -plane[3]-(my_product(plane_normal,point))\n",
    "    t=t/my_product(plane_normal,plane_normal)\n",
    "    \n",
    "    p_0=[0,0,0]\n",
    "    p_0[0]=point[0]+t*plane[0]\n",
    "    p_0[1]=point[1]+t*plane[1]\n",
    "    p_0[2]=point[2]+t*plane[2]\n",
    "    \n",
    "    return d,t,p_0"
   ]
  },
  {
   "cell_type": "code",
   "execution_count": 5,
   "metadata": {},
   "outputs": [
    {
     "data": {
      "text/plain": [
       "(10.155927192672127,\n",
       " -2.2857142857142856,\n",
       " [1.7142857142857144, -2.571428571428571, 3.1428571428571432])"
      ]
     },
     "execution_count": 5,
     "metadata": {},
     "output_type": "execute_result"
    }
   ],
   "source": [
    "plane_1 = [1,2,3,-6]\n",
    "point_1 = [4,2,10]\n",
    "plane_point(plane_1,point_1)"
   ]
  },
  {
   "cell_type": "code",
   "execution_count": 6,
   "metadata": {},
   "outputs": [
    {
     "data": {
      "text/plain": [
       "(32, 3.7416573867739413, 8.774964387392123)"
      ]
     },
     "execution_count": 6,
     "metadata": {},
     "output_type": "execute_result"
    }
   ],
   "source": [
    "a=[1,2,3]\n",
    "b=[4,5,6]\n",
    "my_product(a,b) , my_length_function(a) , my_length_function(b)"
   ]
  }
 ],
 "metadata": {
  "kernelspec": {
   "display_name": "Python 3",
   "language": "python",
   "name": "python3"
  },
  "language_info": {
   "codemirror_mode": {
    "name": "ipython",
    "version": 3
   },
   "file_extension": ".py",
   "mimetype": "text/x-python",
   "name": "python",
   "nbconvert_exporter": "python",
   "pygments_lexer": "ipython3",
   "version": "3.6.6"
  }
 },
 "nbformat": 4,
 "nbformat_minor": 2
}
